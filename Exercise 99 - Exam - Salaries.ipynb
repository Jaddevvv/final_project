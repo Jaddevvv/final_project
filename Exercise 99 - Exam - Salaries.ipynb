{
 "cells": [
  {
   "cell_type": "markdown",
   "id": "8f2da95d",
   "metadata": {
    "papermill": {
     "duration": 0.018021,
     "end_time": "2024-08-17T16:26:16.089882",
     "exception": false,
     "start_time": "2024-08-17T16:26:16.071861",
     "status": "completed"
    },
    "tags": []
   },
   "source": [
    "# Import necessary libraries\n"
   ]
  },
  {
   "cell_type": "code",
   "execution_count": null,
   "id": "f34c5801",
   "metadata": {
    "execution": {
     "iopub.execute_input": "2024-08-17T16:26:16.123778Z",
     "iopub.status.busy": "2024-08-17T16:26:16.123372Z",
     "iopub.status.idle": "2024-08-17T16:26:16.942131Z",
     "shell.execute_reply": "2024-08-17T16:26:16.940956Z"
    },
    "papermill": {
     "duration": 0.838925,
     "end_time": "2024-08-17T16:26:16.944968",
     "exception": false,
     "start_time": "2024-08-17T16:26:16.106043",
     "status": "completed"
    },
    "tags": []
   },
   "outputs": [],
   "source": [
    "import os\n",
    "import pandas as pd\n",
    "import matplotlib.pyplot as plt\n",
    "from datetime import datetime\n",
    "import re\n",
    "\n",
    "pd.options.display.max_columns = 200\n",
    "pd.options.display.max_rows = 3000"
   ]
  },
  {
   "cell_type": "markdown",
   "id": "634aba95",
   "metadata": {
    "papermill": {
     "duration": 0.015969,
     "end_time": "2024-08-17T16:26:16.977500",
     "exception": false,
     "start_time": "2024-08-17T16:26:16.961531",
     "status": "completed"
    },
    "tags": []
   },
   "source": [
    "# Load the dataset "
   ]
  },
  {
   "cell_type": "code",
   "execution_count": null,
   "id": "95f4e7e9",
   "metadata": {
    "execution": {
     "iopub.execute_input": "2024-08-17T16:26:17.013422Z",
     "iopub.status.busy": "2024-08-17T16:26:17.012448Z",
     "iopub.status.idle": "2024-08-17T16:26:17.607619Z",
     "shell.execute_reply": "2024-08-17T16:26:17.606310Z"
    },
    "papermill": {
     "duration": 0.61633,
     "end_time": "2024-08-17T16:26:17.610091",
     "exception": false,
     "start_time": "2024-08-17T16:26:16.993761",
     "status": "completed"
    },
    "tags": []
   },
   "outputs": [],
   "source": [
    "def parent_directory():\n",
    "\n",
    "  # Create a relative path to the parent\n",
    "  # of the current working directory\n",
    "  relative_parent = os.path.join(os.getcwd(), os.pardir)\n",
    "  # Return the absolute path of the parent directory\n",
    "  return os.path.abspath(relative_parent)\n",
    "\n",
    "print(parent_directory())\n",
    "\n",
    "def str_2_int(value):\n",
    "  if ',' in value:\n",
    "    x = float(value.replace(',',''))\n",
    "    return x\n",
    "  else :\n",
    "    return float(value)\n",
    "\n",
    "salaries = pd.read_csv(parent_directory() + '/final_project/0.Ressources/05_2_salaries.csv')\n"
   ]
  },
  {
   "cell_type": "markdown",
   "id": "7a3a44de",
   "metadata": {},
   "source": [
    "# Renaming Columns and Adding Total Remuneration"
   ]
  },
  {
   "cell_type": "code",
   "execution_count": null,
   "id": "8e62eb2c",
   "metadata": {},
   "outputs": [],
   "source": [
    "\n",
    "\n",
    "#Rename Column names because they were too long\n",
    "salaries.columns = ['Time', 'Age', 'Industry', 'Job', 'Job Context', 'Salary', 'Bonus', 'Currency', 'Other Currency', 'Income Context', 'Country', 'US State', 'City', 'Experience', 'Field experience', 'Education', 'Gender', 'Race']\n",
    "\n",
    "#Convert String to float\n",
    "salaries[\"Salary\"] = salaries[\"Salary\"].apply(str_2_int)\n",
    "\n",
    "\n",
    "#Replace NA values in Bonus by 0 and add a \"Total Remuneration\" Column\n",
    "values = {\"Bonus\": 0.0}\n",
    "salaries = salaries.fillna(value = values)\n",
    "salaries[\"Total Remuneration\"] = salaries[\"Salary\"] + salaries[\"Bonus\"]\n",
    "move = salaries.pop(\"Total Remuneration\")\n",
    "salaries.insert(7,\"Total Remuneration\" ,move)\n",
    "\n",
    "\n",
    "salaries\n"
   ]
  },
  {
   "cell_type": "markdown",
   "id": "7db8ae8c",
   "metadata": {},
   "source": [
    "# Fixing Types"
   ]
  },
  {
   "cell_type": "code",
   "execution_count": null,
   "id": "123535fb",
   "metadata": {},
   "outputs": [],
   "source": [
    "salaries[\"Time\"] = pd.to_datetime(salaries[\"Time\"], format='%m/%d/%Y %H:%M:%S')\n",
    "\n",
    "salaries.dtypes"
   ]
  },
  {
   "cell_type": "markdown",
   "id": "2e1f932e",
   "metadata": {},
   "source": [
    "# Check Missing Values"
   ]
  },
  {
   "cell_type": "code",
   "execution_count": null,
   "id": "02890dba",
   "metadata": {},
   "outputs": [],
   "source": [
    "pair_list = salaries[\"Currency\"].unique()"
   ]
  },
  {
   "cell_type": "code",
   "execution_count": null,
   "id": "842b11cd",
   "metadata": {},
   "outputs": [],
   "source": [
    "missing_values = salaries.isnull().sum()\n",
    "missing_percentage = (missing_values / len(salaries)) * 100\n",
    "missing_df = pd.DataFrame({'Missing Values': missing_values, 'Percentage (%)': missing_percentage})\n",
    "missing_df[missing_df['Missing Values'] > 0].sort_values(by='Percentage (%)', ascending=False)"
   ]
  },
  {
   "cell_type": "markdown",
   "id": "0f52db50",
   "metadata": {},
   "source": [
    "We can therefore see that over 99.2% of the dataset is payed in one of the currencies listed in the \"Currency\" column. For this reason we think it would make sense to remove the other currencies from our analysis as they would not have a significant impact on the results. We will therefore analyse salaries from the US, Great Britain, Canada, Euro Zone, Australia and New Zealand, Switzerland, South Africa, Sweden, Hong Kong and Japan. This may bias our views due to it being focused on advanced economies.   "
   ]
  },
  {
   "cell_type": "markdown",
   "id": "4b894546",
   "metadata": {},
   "source": [
    "# Get current exchange rate"
   ]
  },
  {
   "cell_type": "code",
   "execution_count": null,
   "id": "84f67d2f",
   "metadata": {},
   "outputs": [],
   "source": [
    "#We are going to use Selenium here to get the exchange rate of the currencies\n",
    "from selenium import webdriver\n",
    "from selenium.webdriver.common.by import By\n",
    "import time\n",
    "\n",
    "# instantiate a Chrome options object\n",
    "options = webdriver.ChromeOptions()\n",
    "\n",
    "# set the options to use Chrome in headless mode\n",
    "options.add_argument(\"--headless=new\")\n",
    "\n",
    "# initialize an instance of the chrome driver (browser) in headless mode\n",
    "driver = webdriver.Chrome(\n",
    "    options=options,\n",
    ")\n",
    "\n",
    "# visit your target site\n",
    "driver.get(\"https://www.oanda.com/currency-converter/live-exchange-rates/\")\n",
    "\n",
    "# extract all the product containers\n",
    "rates = driver.find_elements(By.XPATH, \"/html/body/div[1]/main/div/div/div[3]\")\n",
    "\n",
    "time.sleep(3)"
   ]
  },
  {
   "cell_type": "code",
   "execution_count": null,
   "id": "d654a0af",
   "metadata": {},
   "outputs": [],
   "source": [
    "def get_current_rates():\n",
    "    def get_rate(rate):\n",
    "        if rate == \"EUR\":\n",
    "          return 1\n",
    "        #HKD doesnt exist unfortunately and I couldn't find it so i will hard code the rate\n",
    "        if rate == \"HKD\":\n",
    "          return 0.12\n",
    "        \n",
    "        #Users put AUD/NZD so we chose AUD as default \n",
    "        if rate == \"AUD/NZD\":\n",
    "          rate = \"AUD\"\n",
    "        \n",
    "        rate_pair = rate + \"/EUR\"\n",
    "        for rate in rates:\n",
    "          if rate_pair in rate.text:\n",
    "            exchange_rate_path = rate.text.split(rate_pair)[1].split(\"\\n\")\n",
    "            return float(exchange_rate_path[1] + exchange_rate_path[2])\n",
    "\n",
    "    pair_list = salaries['Currency'].unique().tolist()\n",
    "    exchange_rate = {}\n",
    "    \n",
    "    for pair in pair_list:\n",
    "      if pair == \"Other\":\n",
    "        continue\n",
    "      exchange_rate[pair] = get_rate(pair)\n",
    "    \n",
    "    return exchange_rate\n",
    "\n",
    "\n",
    "def get_total_eur(row):\n",
    "    for currency_key in ['Currency', 'Other Currency']:\n",
    "        currency = row[currency_key]\n",
    "        if currency in rates_list:\n",
    "            return row['Total Remuneration'] * rates_list[currency]\n",
    "    return None  # Return None if currency is not found\n",
    "\n",
    "rates_list = get_current_rates()\n"
   ]
  },
  {
   "cell_type": "code",
   "execution_count": null,
   "id": "c5abf3e5",
   "metadata": {},
   "outputs": [],
   "source": [
    "\n",
    "salaries['Total Remuneration EUR'] = salaries.apply(get_total_eur, axis=1)\n",
    "salaries"
   ]
  },
  {
   "cell_type": "markdown",
   "id": "d4114f2b",
   "metadata": {},
   "source": [
    "# Check for Weird Values and Outliers"
   ]
  },
  {
   "cell_type": "code",
   "execution_count": null,
   "id": "6d86d7eb",
   "metadata": {},
   "outputs": [],
   "source": [
    "\n",
    "year = salaries['Time'].dt.year\n",
    "year.unique()\n",
    "# Output 2021, 2022, 2023, 2024. Nothing weird\n",
    "\n",
    "salaries['Job Context'].unique()\n",
    "# Output is okay as well\n",
    "\n",
    "\n",
    "salaries = salaries.drop(salaries[salaries['Total Remuneration'] == 0].index)\n",
    "# 18 values that wasn't important for us as there is no remuneration. We can consider those as bad data"
   ]
  },
  {
   "cell_type": "code",
   "execution_count": null,
   "id": "21c3cc17",
   "metadata": {},
   "outputs": [],
   "source": [
    "# Function to detect outliers using IQR\n",
    "def detect_outliers(dataframe, column):\n",
    "    Q1 = dataframe[column].quantile(0.25)\n",
    "    Q3 = dataframe[column].quantile(0.75)\n",
    "    IQR = Q3 - Q1\n",
    "    lower_bound = Q1 - 1.5 * IQR\n",
    "    upper_bound = Q3 + 1.5 * IQR\n",
    "    \n",
    "    return dataframe[(dataframe[column] < lower_bound) | (dataframe[column] > upper_bound)]\n",
    "\n",
    "numerical_columns = salaries.select_dtypes(exclude=['object']).columns\n",
    "\n",
    "# Detect outliers for numerical columns\n",
    "outliers_data = {}\n",
    "for column in numerical_columns:\n",
    "    outliers = detect_outliers(salaries, column)\n",
    "    outliers_data[column] = len(outliers)\n",
    "\n",
    "# Display the count of outliers for each numerical column\n",
    "outliers_data"
   ]
  },
  {
   "cell_type": "markdown",
   "id": "a913e879",
   "metadata": {},
   "source": [
    "Given the nature of this dataset, the presence of outliers in price-related columns (e.g., `Salary`, `Bonus`, `Total Remuneration`,`Total Remuneration EUR`) might be due to some salaries/bonus being higher than the others. Similarly, outliers in columns like `Time` are normal because it indicates all the timestamps\n",
    "\n",
    "For the purpose of this project, we won’t remove these outliers since they can provide insights into this variety."
   ]
  },
  {
   "cell_type": "markdown",
   "id": "9b6f4cd1",
   "metadata": {},
   "source": [
    "# Voici ton code intial sur currency rate conversion"
   ]
  },
  {
   "cell_type": "code",
   "execution_count": null,
   "id": "272e0f9d",
   "metadata": {},
   "outputs": [],
   "source": [
    "salaries[\"Other Currency\"] = salaries['Other Currency'].fillna('NaN')\n",
    "allowed_currencies = ['USD', 'GBP', 'CAD', 'EUR', 'AUD/NZD', 'CHF', 'ZAR', 'SEK', 'HKD', 'JPY']\n",
    "other = ['Other', 'NaN', 'Na', 'N/a']\n",
    "salaries = salaries[\n",
    "    (salaries['Currency'].isin(allowed_currencies) & salaries['Other Currency'].isin(other) ) | (salaries['Currency'].isin(other) & salaries['Other Currency'].isin(allowed_currencies))]\n",
    "print(salaries['Currency'].unique())\n",
    "print(salaries['Other Currency'].unique())\n",
    "len(salaries)\n",
    "\n",
    "\n",
    "# prompt: make a function that converts the values of the \"Total Remuneration\" into EUR depending on the currency located in \"Currency\" or \"Other currency\" with current exchange rates\n",
    "\n",
    "def convert_to_eur(row):\n",
    "  \"\"\"Converts the 'Total Remuneration' to EUR based on the currency in 'Currency' or 'Other Currency'.\n",
    "\n",
    "  Args:\n",
    "    row: A pandas Series representing a row in the DataFrame.\n",
    "\n",
    "  Returns:\n",
    "    The 'Total Remuneration' in EUR.\n",
    "  \"\"\"\n",
    "  #Current Exchange Rates\n",
    "  exchange_rates = {\n",
    "      'USD': 0.93,  # EUR/USD rate\n",
    "      'GBP': 1.15,  # EUR/GBP rate\n",
    "      'CAD': 0.68,  # EUR/CAD rate\n",
    "      'EUR': 1.00,  # EUR/EUR rate\n",
    "      'AUD/NZD': 0.60,  # EUR/AUD rate (assuming the same for NZD for simplicity)\n",
    "      'CHF': 0.95,  # EUR/CHF rate\n",
    "      'ZAR': 0.05,  # EUR/ZAR rate\n",
    "      'SEK': 0.09,  # EUR/SEK rate\n",
    "      'HKD': 0.12,  # EUR/HKD rate\n",
    "      'JPY': 0.0071,  # EUR/JPY rate\n",
    "  }\n",
    "\n",
    "  if row['Currency'] in exchange_rates:\n",
    "    currency = row['Currency']\n",
    "  elif row['Other Currency'] in exchange_rates:\n",
    "    currency = row['Other Currency']\n",
    "  else:\n",
    "    return None  # Return None if currency is not found\n",
    "\n",
    "  return row['Total Remuneration'] * exchange_rates[currency]\n",
    "\n",
    "# Apply the function to create a new column\n",
    "salaries['Total Remuneration EUR'] = salaries.apply(convert_to_eur, axis=1)\n",
    "salaries"
   ]
  },
  {
   "cell_type": "markdown",
   "id": "6d1a4f1e",
   "metadata": {},
   "source": [
    "# Questions\n",
    "1. Which industry pays the most?\n",
    "2. How does salary increase given years of experience?\n",
    "3. How do salaries compare for the same role in different locations?\n",
    "4. How much do salaries differ by gender and years of experience?\n",
    "5. How do factors like race and education level correlate with salary?\n",
    "6. Is there a “sweet spot” total work experience vs years in the specific field?"
   ]
  },
  {
   "cell_type": "code",
   "execution_count": null,
   "id": "25405bd2",
   "metadata": {},
   "outputs": [],
   "source": [
    "salary_average = salaries[['Industry','Total Remuneration EUR']]\n",
    "list_pay_industry = salary_average.groupby(\"Industry\").mean()\n",
    "print(list_pay_industry.sort_values(by=\"Total Remuneration EUR\", ascending= False))\n",
    "\n"
   ]
  },
  {
   "cell_type": "code",
   "execution_count": null,
   "id": "58545355",
   "metadata": {},
   "outputs": [],
   "source": []
  },
  {
   "cell_type": "code",
   "execution_count": null,
   "id": "2f3e6e8f",
   "metadata": {},
   "outputs": [],
   "source": []
  },
  {
   "cell_type": "code",
   "execution_count": null,
   "id": "71c0763c",
   "metadata": {},
   "outputs": [],
   "source": []
  }
 ],
 "metadata": {
  "kaggle": {
   "accelerator": "none",
   "dataSources": [
    {
     "datasetId": 923113,
     "sourceId": 1579237,
     "sourceType": "datasetVersion"
    }
   ],
   "dockerImageVersionId": 30746,
   "isGpuEnabled": false,
   "isInternetEnabled": false,
   "language": "python",
   "sourceType": "notebook"
  },
  "kernelspec": {
   "display_name": "final_project",
   "language": "python",
   "name": "python3"
  },
  "language_info": {
   "codemirror_mode": {
    "name": "ipython",
    "version": 3
   },
   "file_extension": ".py",
   "mimetype": "text/x-python",
   "name": "python",
   "nbconvert_exporter": "python",
   "pygments_lexer": "ipython3",
   "version": "3.12.4"
  },
  "papermill": {
   "default_parameters": {},
   "duration": 8.75392,
   "end_time": "2024-08-17T16:26:21.896792",
   "environment_variables": {},
   "exception": null,
   "input_path": "__notebook__.ipynb",
   "output_path": "__notebook__.ipynb",
   "parameters": {},
   "start_time": "2024-08-17T16:26:13.142872",
   "version": "2.5.0"
  }
 },
 "nbformat": 4,
 "nbformat_minor": 5
}
